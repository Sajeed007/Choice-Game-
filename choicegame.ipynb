{
 "cells": [
  {
   "cell_type": "code",
   "execution_count": 1,
   "id": "11379619",
   "metadata": {},
   "outputs": [],
   "source": [
    "#creating characters with different strength\n",
    "\n",
    "beast_mode = {'strength':85,'defence':70,'health':100,'gold':50}\n",
    "power_mode = {'strength':75,'defence':80,'health':100,'gold':50}\n",
    "wizard_mode = {'strength':65,'defence':80,'health':100,'gold':70}"
   ]
  },
  {
   "cell_type": "code",
   "execution_count": 2,
   "id": "9b029a2d",
   "metadata": {},
   "outputs": [],
   "source": [
    "class character:\n",
    "    def __init__(self,strength,defence,health,gold):\n",
    "        self.strength = strength\n",
    "        self.defence = defence\n",
    "        self.health = health\n",
    "        self.gold = gold\n",
    "        \n",
    "class blackcat:\n",
    "    def __init__(self,strength,defence,health,gold):\n",
    "        self.strength = strength\n",
    "        self.defence = defence\n",
    "        self.health = health\n",
    "        self.gold = gold\n",
    "    \n",
    "        "
   ]
  },
  {
   "cell_type": "code",
   "execution_count": 3,
   "id": "36fdae5a",
   "metadata": {},
   "outputs": [
    {
     "name": "stdout",
     "output_type": "stream",
     "text": [
      "Please chose your character [beast,power,wizard] : wizard\n"
     ]
    }
   ],
   "source": [
    "user_input = input('Please chose your character [beast,power,wizard] : ')\n",
    "if user_input == 'beast':\n",
    "    g_mode = character(beast_mode['strength'],beast_mode['defence'],beast_mode['health'],beast_mode['gold'])\n",
    "elif user_input == 'power':\n",
    "    g_mode = character(power_mode['strength'],power_mode['defence'],power_mode['health'],power_mode['gold'])\n",
    "elif user_input == 'wizard':    \n",
    "    g_mode = character(wizard_mode['strength'],wizard_mode['defence'],wizard_mode['health'],wizard_mode['gold'])\n",
    "else:\n",
    "    print('please chose valid option!')\n",
    "#here we canaccess the the dictionery and use it to assign chosed assignments to g_mode\n",
    "\n"
   ]
  },
  {
   "cell_type": "code",
   "execution_count": 4,
   "id": "8f506861",
   "metadata": {},
   "outputs": [
    {
     "data": {
      "text/plain": [
       "100"
      ]
     },
     "execution_count": 4,
     "metadata": {},
     "output_type": "execute_result"
    }
   ],
   "source": [
    "pusy_cat = blackcat(50,45,60,5)\n",
    "\n",
    "g_mode.health\n",
    "#g_mode.defence\n"
   ]
  },
  {
   "cell_type": "code",
   "execution_count": null,
   "id": "14e662d3",
   "metadata": {},
   "outputs": [
    {
     "name": "stdout",
     "output_type": "stream",
     "text": [
      "your going to jungle and you stepped out of your house you see bike and car, you took bike and after a while you get two roads left and right side which one you chose \n",
      "Enter left or right : left\n",
      "black cat(enemy) is infront of you kill it! \n",
      "chose fight or runfight\n",
      "redy to fight\n",
      "your health is 40\n",
      "your going to jungle and you stepped out of your house you see bike and car, you took bike and after a while you get two roads left and right side which one you chose \n"
     ]
    }
   ],
   "source": [
    "#number of senarios where player meets enimy or friend based on choice made\n",
    "#to do so we use nested if else statement\n",
    "while g_mode.health > 0: \n",
    "    print('your going to jungle and you stepped out of your house you see bike and car, you took bike and after a while you get two roads left and right side which one you chose ')\n",
    "    left_right = input('Enter left or right : ')\n",
    "    if left_right == 'left':\n",
    "        print ('black cat(enemy) is infront of you kill it! ')\n",
    "        fight_run = input('chose fight or run')\n",
    "        if fight_run == 'fight':\n",
    "            print('redy to fight')\n",
    "            g_mode.health -= pusy_cat.health\n",
    "            g_mode.defence -= pusy_cat.defence\n",
    "            print('your health is {}'.format(g_mode.health))\n",
    "        elif fight_run == 'run':\n",
    "            print('by running away your loosing your strength and gold')\n",
    "            g_mode.strength -= 20\n",
    "            g_mode.gold -= 30\n",
    "    elif left_right == 'right':\n",
    "        print ('noha your friend he wants to give you 50 gold coins')\n",
    "        g_mode.gold += 50\n",
    "        print('')"
   ]
  },
  {
   "cell_type": "code",
   "execution_count": null,
   "id": "8709d236",
   "metadata": {},
   "outputs": [],
   "source": [
    "g_mode.health"
   ]
  },
  {
   "cell_type": "code",
   "execution_count": null,
   "id": "8c360aee",
   "metadata": {},
   "outputs": [],
   "source": []
  }
 ],
 "metadata": {
  "kernelspec": {
   "display_name": "Python 3",
   "language": "python",
   "name": "python3"
  },
  "language_info": {
   "codemirror_mode": {
    "name": "ipython",
    "version": 3
   },
   "file_extension": ".py",
   "mimetype": "text/x-python",
   "name": "python",
   "nbconvert_exporter": "python",
   "pygments_lexer": "ipython3",
   "version": "3.8.8"
  }
 },
 "nbformat": 4,
 "nbformat_minor": 5
}
